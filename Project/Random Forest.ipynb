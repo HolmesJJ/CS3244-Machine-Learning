{
 "cells": [
  {
   "cell_type": "code",
   "execution_count": null,
   "metadata": {
    "execution": {
     "iopub.execute_input": "2021-11-16T08:22:56.770833Z",
     "iopub.status.busy": "2021-11-16T08:22:56.770305Z",
     "iopub.status.idle": "2021-11-16T08:22:56.777988Z",
     "shell.execute_reply": "2021-11-16T08:22:56.776977Z",
     "shell.execute_reply.started": "2021-11-16T08:22:56.770775Z"
    }
   },
   "outputs": [],
   "source": [
    "import matplotlib.pyplot as plt\n",
    "import numpy as np\n",
    "import pandas as pd\n",
    "# import pydotplus as pp\n",
    "import seaborn as sns\n",
    "\n",
    "from IPython.display import display\n",
    "from IPython.display import Image\n",
    "\n",
    "from sklearn.decomposition import PCA\n",
    "\n",
    "from sklearn.ensemble import RandomForestRegressor\n",
    "\n",
    "from sklearn import metrics\n",
    "from sklearn.metrics import r2_score\n",
    "from sklearn.metrics import explained_variance_score\n",
    "from sklearn.metrics import max_error\n",
    "from sklearn.metrics import mean_absolute_error\n",
    "from sklearn.metrics import mean_squared_error\n",
    "from sklearn.metrics import median_absolute_error\n",
    "\n",
    "from sklearn.model_selection import train_test_split\n",
    "\n",
    "from sklearn.preprocessing import StandardScaler"
   ]
  },
  {
   "cell_type": "code",
   "execution_count": null,
   "metadata": {
    "execution": {
     "iopub.execute_input": "2021-11-16T08:22:56.780366Z",
     "iopub.status.busy": "2021-11-16T08:22:56.779482Z",
     "iopub.status.idle": "2021-11-16T08:22:56.802797Z",
     "shell.execute_reply": "2021-11-16T08:22:56.801895Z",
     "shell.execute_reply.started": "2021-11-16T08:22:56.780332Z"
    }
   },
   "outputs": [],
   "source": [
    "class CONFIG:\n",
    "    INDEXS = [\"R2\", \"MEAN_AE\", \"MEDIAN_AE\", \"HIT@100\", \"DE\"]"
   ]
  },
  {
   "cell_type": "markdown",
   "metadata": {},
   "source": [
    "# Load Dataset"
   ]
  },
  {
   "cell_type": "code",
   "execution_count": null,
   "metadata": {
    "execution": {
     "iopub.execute_input": "2021-11-16T08:22:56.804827Z",
     "iopub.status.busy": "2021-11-16T08:22:56.804327Z",
     "iopub.status.idle": "2021-11-16T08:22:56.848189Z",
     "shell.execute_reply": "2021-11-16T08:22:56.847151Z",
     "shell.execute_reply.started": "2021-11-16T08:22:56.804793Z"
    }
   },
   "outputs": [],
   "source": [
    "header = pd.read_csv(\"../input/facebookdataset/Dataset/header.csv\", header=None)\n",
    "header"
   ]
  },
  {
   "cell_type": "code",
   "execution_count": null,
   "metadata": {
    "execution": {
     "iopub.execute_input": "2021-11-16T08:22:56.849572Z",
     "iopub.status.busy": "2021-11-16T08:22:56.849257Z",
     "iopub.status.idle": "2021-11-16T08:22:59.471004Z",
     "shell.execute_reply": "2021-11-16T08:22:59.470344Z",
     "shell.execute_reply.started": "2021-11-16T08:22:56.849521Z"
    }
   },
   "outputs": [],
   "source": [
    "df2 = pd.read_csv(\"../input/facebookdataset/Dataset/Training/Features_Variant_2.csv\",\n",
    "                               header=None,\n",
    "                               names=[header.iat[0, i] for i in range(0, 54)])\n",
    "df3 = pd.read_csv(\"../input/facebookdataset/Dataset/Training/Features_Variant_3.csv\",\n",
    "                               header=None,\n",
    "                               names=[header.iat[0, i] for i in range(0, 54)])\n",
    "df4 = pd.read_csv(\"../input/facebookdataset/Dataset/Training/Features_Variant_4.csv\",\n",
    "                               header=None,\n",
    "                               names=[header.iat[0, i] for i in range(0, 54)])\n",
    "df5 = pd.read_csv(\"../input/facebookdataset/Dataset/Training/Features_Variant_5.csv\",\n",
    "                               header=None,\n",
    "                               names=[header.iat[0, i] for i in range(0, 54)])\n",
    "# training_dataset = pd.concat([df2, df3, df4, df5])\n",
    "training_dataset = df3\n",
    "testing_dataset = pd.read_csv(\"../input/facebookdataset/Dataset/Testing/Features_TestSet.csv\",\n",
    "                             header=None,\n",
    "                             names=[header.iat[0, i] for i in range(0, 54)])\n",
    "testing_dataset = testing_dataset.sample(n=1000)\n",
    "training_dataset"
   ]
  },
  {
   "cell_type": "markdown",
   "metadata": {},
   "source": [
    "## Feature Engineering"
   ]
  },
  {
   "cell_type": "code",
   "execution_count": null,
   "metadata": {
    "execution": {
     "iopub.execute_input": "2021-11-16T08:22:59.473292Z",
     "iopub.status.busy": "2021-11-16T08:22:59.472472Z",
     "iopub.status.idle": "2021-11-16T08:22:59.476996Z",
     "shell.execute_reply": "2021-11-16T08:22:59.476211Z",
     "shell.execute_reply.started": "2021-11-16T08:22:59.473258Z"
    }
   },
   "outputs": [],
   "source": [
    "PCA_start = 4\n",
    "PCA_end = 34\n",
    "PCA_dim = 30"
   ]
  },
  {
   "cell_type": "code",
   "execution_count": null,
   "metadata": {
    "execution": {
     "iopub.execute_input": "2021-11-16T08:22:59.478589Z",
     "iopub.status.busy": "2021-11-16T08:22:59.478273Z",
     "iopub.status.idle": "2021-11-16T08:22:59.499383Z",
     "shell.execute_reply": "2021-11-16T08:22:59.498679Z",
     "shell.execute_reply.started": "2021-11-16T08:22:59.478536Z"
    }
   },
   "outputs": [],
   "source": [
    "df = testing_dataset\n",
    "df.insert(46, \"posted on weekday\", (df[\"Post published weekday-Monday\"] + df[\"Post published weekday-Tuesday\"] + df[\"Post published weekday-Wednesday\"] + df[\"Post published weekday-Thursday\"] + df[\"Post published weekday-Friday\"]).astype(\"int\"))\n",
    "df.insert(46, \"posted on weekend\", (df[\"Post published weekday-Sunday\"] + df[\"Post published weekday-Saturday\"]).astype(\"int\"))\n",
    "df.drop([\"Post published weekday-Saturday\", \"Post published weekday-Sunday\", \"Post published weekday-Monday\", \"Post published weekday-Tuesday\", \"Post published weekday-Wednesday\", \"Post published weekday-Thursday\", \"Post published weekday-Friday\"], axis = 1, inplace = True)\n",
    "df.head()\n",
    "y_test = df.iloc[:, -1:]\n",
    "X_test = df.iloc[:, :-1]"
   ]
  },
  {
   "cell_type": "code",
   "execution_count": null,
   "metadata": {
    "execution": {
     "iopub.execute_input": "2021-11-16T08:22:59.501454Z",
     "iopub.status.busy": "2021-11-16T08:22:59.500525Z",
     "iopub.status.idle": "2021-11-16T08:22:59.512045Z",
     "shell.execute_reply": "2021-11-16T08:22:59.511337Z",
     "shell.execute_reply.started": "2021-11-16T08:22:59.501414Z"
    }
   },
   "outputs": [],
   "source": [
    "# # Separating out the derived value\n",
    "# derived = df.iloc[:, PCA_start:PCA_end].values\n",
    "# # Standardizing the features\n",
    "# norm_derived = StandardScaler().fit_transform(derived)\n",
    "# # pca = PCA(n_components=10)\n",
    "# # principal_components = pca.fit_transform(norm_derived)\n",
    "# # principal_df = pd.DataFrame(data = principal_components\n",
    "# #              , columns = ['PC1', 'PC2', 'PC3', 'PC4', 'PC5', 'PC6', 'PC7', 'PC8', 'PC9', 'PC10'])\n",
    "# pca = PCA(n_components=PCA_dim)\n",
    "# principal_components = pca.fit_transform(norm_derived)\n",
    "# principal_df = pd.DataFrame(data = principal_components)\n",
    "# X_test = pd.concat([df.iloc[:, :PCA_start].reset_index(drop=True), principal_df.reset_index(drop=True), df.iloc[:, PCA_end:-1].reset_index(drop=True)], axis=1)\n",
    "# y_test = df.iloc[:, -1:]\n",
    "# X_test"
   ]
  },
  {
   "cell_type": "code",
   "execution_count": null,
   "metadata": {
    "execution": {
     "iopub.execute_input": "2021-11-16T08:22:59.513713Z",
     "iopub.status.busy": "2021-11-16T08:22:59.513327Z",
     "iopub.status.idle": "2021-11-16T08:22:59.620274Z",
     "shell.execute_reply": "2021-11-16T08:22:59.619321Z",
     "shell.execute_reply.started": "2021-11-16T08:22:59.513679Z"
    }
   },
   "outputs": [],
   "source": [
    "df = training_dataset\n",
    "df.insert(46, \"posted on weekday\", (df[\"Post published weekday-Monday\"] + df[\"Post published weekday-Tuesday\"] + df[\"Post published weekday-Wednesday\"] + df[\"Post published weekday-Thursday\"] + df[\"Post published weekday-Friday\"]).astype(\"int\"))\n",
    "df.insert(46, \"posted on weekend\", (df[\"Post published weekday-Sunday\"] + df[\"Post published weekday-Saturday\"]).astype(\"int\"))\n",
    "df.drop([\"Post published weekday-Saturday\", \"Post published weekday-Sunday\", \"Post published weekday-Monday\", \"Post published weekday-Tuesday\", \"Post published weekday-Wednesday\", \"Post published weekday-Thursday\", \"Post published weekday-Friday\"], axis = 1, inplace = True)\n",
    "df.head()\n",
    "features = df.iloc[:, :-1]\n",
    "labels = df.iloc[:, -1:]\n",
    "X_train, X_validate, y_train, y_validate = train_test_split(features, labels, test_size=.3, random_state=42)"
   ]
  },
  {
   "cell_type": "code",
   "execution_count": null,
   "metadata": {
    "execution": {
     "iopub.execute_input": "2021-11-16T08:22:59.622201Z",
     "iopub.status.busy": "2021-11-16T08:22:59.621703Z",
     "iopub.status.idle": "2021-11-16T08:22:59.626906Z",
     "shell.execute_reply": "2021-11-16T08:22:59.626136Z",
     "shell.execute_reply.started": "2021-11-16T08:22:59.622152Z"
    }
   },
   "outputs": [],
   "source": [
    "# # Separating out the derived value\n",
    "# derived = df.iloc[:, PCA_start:PCA_end].values\n",
    "# # Standardizing the features\n",
    "# norm_derived = StandardScaler().fit_transform(derived)\n",
    "# # pca = PCA(n_components=10)\n",
    "# # principal_components = pca.fit_transform(norm_derived)\n",
    "# # principal_df = pd.DataFrame(data = principal_components\n",
    "# #              , columns = ['PC1', 'PC2', 'PC3', 'PC4', 'PC5', 'PC6', 'PC7', 'PC8', 'PC9', 'PC10'])\n",
    "# pca = PCA(n_components=PCA_dim)\n",
    "# principal_components = pca.fit_transform(norm_derived)\n",
    "# principal_df = pd.DataFrame(data = principal_components)\n",
    "# features = pd.concat([df.iloc[:, :PCA_start].reset_index(drop=True), principal_df.reset_index(drop=True), df.iloc[:, PCA_end:-1].reset_index(drop=True)], axis=1)\n",
    "# labels = df.iloc[:, -1:]\n",
    "# X_train, X_validate, y_train, y_validate = train_test_split(features, labels, test_size=.3, random_state=42)\n",
    "# X_train\n",
    "# corr = X_train.corr()\n",
    "# plt.subplots(figsize=(20, 20))\n",
    "# sns.heatmap(data=corr, cmap=\"RdBu_r\")\n",
    "# plt.show()"
   ]
  },
  {
   "cell_type": "code",
   "execution_count": null,
   "metadata": {
    "execution": {
     "iopub.execute_input": "2021-11-16T08:22:59.628801Z",
     "iopub.status.busy": "2021-11-16T08:22:59.628125Z",
     "iopub.status.idle": "2021-11-16T08:22:59.691621Z",
     "shell.execute_reply": "2021-11-16T08:22:59.69076Z",
     "shell.execute_reply.started": "2021-11-16T08:22:59.628761Z"
    }
   },
   "outputs": [],
   "source": [
    "train = pd.concat([X_train.reset_index(drop=True), y_train.reset_index(drop=True)], axis=1)\n",
    "train"
   ]
  },
  {
   "cell_type": "markdown",
   "metadata": {},
   "source": [
    "## Data Sampling"
   ]
  },
  {
   "cell_type": "code",
   "execution_count": null,
   "metadata": {
    "execution": {
     "iopub.execute_input": "2021-11-16T08:22:59.693565Z",
     "iopub.status.busy": "2021-11-16T08:22:59.693259Z",
     "iopub.status.idle": "2021-11-16T08:22:59.698296Z",
     "shell.execute_reply": "2021-11-16T08:22:59.697703Z",
     "shell.execute_reply.started": "2021-11-16T08:22:59.693513Z"
    }
   },
   "outputs": [],
   "source": [
    "# '''Simple Data Sample'''\n",
    "# features = X_train\n",
    "# labels = y_train\n",
    "\n",
    "# balance_point = 200\n",
    "\n",
    "# idx_low = np.where(labels < balance_point)[0]\n",
    "# idx_high = np.where(labels >= balance_point)[0]\n",
    "\n",
    "# print(\"X_train:\", X_train.shape)\n",
    "# print(\"Before Sample\")\n",
    "# print(\"#low_target_variable:\", idx_low.shape)\n",
    "# print(\"#high_target_variable:\", idx_high.shape)\n",
    "\n",
    "# # # # unsample\n",
    "# # idx_low = np.random.choice(idx_low, size=idx_low.shape[0] // 5, replace=False)\n",
    "# # oversample\n",
    "# idx_high = np.random.choice(idx_high, size=idx_high.shape[0] * 10, replace=True)\n",
    "\n",
    "# # # middle sample\n",
    "# # size = (idx_high.shape[0] + idx_low.shape[0]) // 4\n",
    "# # idx_low = np.random.choice(idx_low, size=size, replace=False)\n",
    "# # idx_high = np.random.choice(idx_high, size=size, replace=True)\n",
    "\n",
    "# print(\"After Sample\")\n",
    "# print(\"#low_target_variable:\", idx_low.shape)\n",
    "# print(\"#high_target_variable:\", idx_high.shape)\n",
    "\n",
    "# features_low = features.take(idx_low, axis=0)\n",
    "# features_high = features.take(idx_high, axis=0)\n",
    "# labels_low = labels.take(idx_low, axis=0)\n",
    "# labels_high = labels.take(idx_high, axis=0)\n",
    "\n",
    "# features = pd.concat([features_low, features_high])\n",
    "# labels = pd.concat([labels_low, labels_high])\n",
    "\n",
    "# # print(features.shape)\n",
    "# # print(labels.shape)\n",
    "# X_train = features\n",
    "# y_train = labels\n",
    "# y_train.hist(bins=20, figsize=(20, 20))\n",
    "# plt.show()"
   ]
  },
  {
   "cell_type": "code",
   "execution_count": null,
   "metadata": {
    "execution": {
     "iopub.execute_input": "2021-11-16T08:22:59.699793Z",
     "iopub.status.busy": "2021-11-16T08:22:59.699269Z",
     "iopub.status.idle": "2021-11-16T08:22:59.719319Z",
     "shell.execute_reply": "2021-11-16T08:22:59.718473Z",
     "shell.execute_reply.started": "2021-11-16T08:22:59.69976Z"
    }
   },
   "outputs": [],
   "source": [
    "'''Smogn'''\n",
    "# !pip install smogn\n",
    "# import smogn\n",
    "\n",
    "# smogn_train = smogn.smoter(\n",
    "\n",
    "#     data = train, \n",
    "#     y = \"Target Variable\"\n",
    "# )\n",
    "# smogn_train"
   ]
  },
  {
   "cell_type": "code",
   "execution_count": null,
   "metadata": {
    "execution": {
     "iopub.execute_input": "2021-11-16T08:22:59.720729Z",
     "iopub.status.busy": "2021-11-16T08:22:59.720457Z",
     "iopub.status.idle": "2021-11-16T08:23:00.032482Z",
     "shell.execute_reply": "2021-11-16T08:23:00.031877Z",
     "shell.execute_reply.started": "2021-11-16T08:22:59.720699Z"
    }
   },
   "outputs": [],
   "source": [
    "# '''imblearn.SMOTE'''\n",
    "# from imblearn.over_sampling import SMOTE\n",
    "# oversample = SMOTE(k_neighbors=2)\n",
    "# y_train_skewed = y_train // 200\n",
    "# X_train, y_train = oversample.fit_resample(X_train, y_train_skewed)\n",
    "# y_train = y_train * 200\n",
    "y_train.hist(bins=20, figsize=(20, 20))\n",
    "plt.show()"
   ]
  },
  {
   "cell_type": "markdown",
   "metadata": {},
   "source": [
    "# Random Forest"
   ]
  },
  {
   "cell_type": "markdown",
   "metadata": {},
   "source": [
    "## Model Training"
   ]
  },
  {
   "cell_type": "code",
   "execution_count": null,
   "metadata": {
    "execution": {
     "iopub.execute_input": "2021-11-16T08:23:00.035202Z",
     "iopub.status.busy": "2021-11-16T08:23:00.034773Z",
     "iopub.status.idle": "2021-11-16T08:23:00.038997Z",
     "shell.execute_reply": "2021-11-16T08:23:00.038423Z",
     "shell.execute_reply.started": "2021-11-16T08:23:00.035161Z"
    }
   },
   "outputs": [],
   "source": [
    "def train_model(model, X_train, y_train, X_test, y_test):\n",
    "    model.fit(X_train, y_train.values.ravel())\n",
    "    predict = model.predict(X_test)\n",
    "    polt_trees_mean_ae(model, X_test, y_test)\n",
    "    return predict"
   ]
  },
  {
   "cell_type": "code",
   "execution_count": null,
   "metadata": {
    "execution": {
     "iopub.execute_input": "2021-11-16T08:23:00.040676Z",
     "iopub.status.busy": "2021-11-16T08:23:00.04022Z",
     "iopub.status.idle": "2021-11-16T08:23:00.055526Z",
     "shell.execute_reply": "2021-11-16T08:23:00.054637Z",
     "shell.execute_reply.started": "2021-11-16T08:23:00.040637Z"
    }
   },
   "outputs": [],
   "source": [
    "def polt_trees_mean_ae(model, X_test, y_test):\n",
    "    mean_aes = pd.DataFrame(\n",
    "        {\n",
    "            \"Mean Absolute Error\": [mean_absolute_error(tree.predict(X_test), y_test) for tree in model.estimators_], \n",
    "            \"Single Decision Tree\": [i for i in range(0, len(model.estimators_))]\n",
    "        }\n",
    "    )\n",
    "    sns.barplot(x=\"Single Decision Tree\", y=\"Mean Absolute Error\", data=mean_aes)\n",
    "    plt.show()\n",
    "    dts_result = pd.DataFrame(\n",
    "        [model.estimators_[dt].predict(X_test).tolist() for dt in range(len(model.estimators_))]\n",
    "    )\n",
    "    print(dts_result.sample(n=10, axis=1).describe())\n",
    "    sns.boxplot(data=dts_result.sample(n=10, axis=1))\n",
    "    plt.show()"
   ]
  },
  {
   "cell_type": "code",
   "execution_count": null,
   "metadata": {
    "execution": {
     "iopub.execute_input": "2021-11-16T08:23:00.057446Z",
     "iopub.status.busy": "2021-11-16T08:23:00.057143Z",
     "iopub.status.idle": "2021-11-16T08:23:00.077104Z",
     "shell.execute_reply": "2021-11-16T08:23:00.076347Z",
     "shell.execute_reply.started": "2021-11-16T08:23:00.057406Z"
    }
   },
   "outputs": [],
   "source": [
    "def plot_test_predict(y_train, y_test, predict, axes=None, k=None):\n",
    "    test_predict = pd.concat([pd.DataFrame(y_test).reset_index(drop=True), pd.DataFrame(predict.transpose())], axis=1)\n",
    "    headers = [\"Test\", \"Predict\"]\n",
    "    test_predict.columns = headers\n",
    "    if axes is not None and k is not None:\n",
    "        sns.lineplot(data=test_predict.sample(n=200), ax=axes[k]).set_title(\"Test Predict Curve k = \" + str(k))\n",
    "    else:\n",
    "        sns.lineplot(data=test_predict.sample(n=200)).set_title(\"Test Predict Curve\")\n",
    "    plt.show()\n",
    "    sns.residplot(x=y_test.to_numpy(), y=predict, lowess=True).set_title(\"Residuals\")\n",
    "    plt.show()"
   ]
  },
  {
   "cell_type": "markdown",
   "metadata": {},
   "source": [
    "## Model Evaluation"
   ]
  },
  {
   "cell_type": "code",
   "execution_count": null,
   "metadata": {
    "execution": {
     "iopub.execute_input": "2021-11-16T08:23:00.078745Z",
     "iopub.status.busy": "2021-11-16T08:23:00.07818Z",
     "iopub.status.idle": "2021-11-16T08:23:00.091921Z",
     "shell.execute_reply": "2021-11-16T08:23:00.091143Z",
     "shell.execute_reply.started": "2021-11-16T08:23:00.078708Z"
    }
   },
   "outputs": [],
   "source": [
    "def evaluate(model, y_test, predict):\n",
    "    \n",
    "    # R-Squared\n",
    "    r2 = r2_score(y_test, predict)\n",
    "    \n",
    "    # Mean Absolute Error\n",
    "    mean_ae = mean_absolute_error(y_test, predict)\n",
    "    \n",
    "    # Median Absolute Error\n",
    "    median_ae = median_absolute_error(y_test, predict)\n",
    "    \n",
    "    y_test_np = y_test.to_numpy().flatten()\n",
    "    # Defined Error\n",
    "    de = np.mean(y_test_np * np.abs(y_test_np - predict))\n",
    "    \n",
    "    # Hit@100\n",
    "    y_test_np = y_test.to_numpy().flatten()\n",
    "    ordered_y_test = np.argsort(y_test_np)\n",
    "    max_y_test = ordered_y_test[-100:]\n",
    "    ordered_predict = np.argsort(predict)\n",
    "    max_predict = ordered_predict[-100:]\n",
    "    acc = 0\n",
    "    for pred in max_predict:\n",
    "        if pred in max_y_test:\n",
    "            acc += 1\n",
    "    acc = acc / 100\n",
    "    \n",
    "    return r2, mean_ae,median_ae, acc, de"
   ]
  },
  {
   "cell_type": "markdown",
   "metadata": {},
   "source": [
    "## Final Model"
   ]
  },
  {
   "cell_type": "code",
   "execution_count": null,
   "metadata": {
    "execution": {
     "iopub.execute_input": "2021-11-16T08:23:00.093631Z",
     "iopub.status.busy": "2021-11-16T08:23:00.092855Z",
     "iopub.status.idle": "2021-11-16T08:23:00.109825Z",
     "shell.execute_reply": "2021-11-16T08:23:00.109036Z",
     "shell.execute_reply.started": "2021-11-16T08:23:00.093599Z"
    }
   },
   "outputs": [],
   "source": [
    "def train_final_model(X_train, y_train, X_test, y_test, max_depth=None, min_samples_split=2, n_estimators=100):\n",
    "    # DecisionTreeRegressor\n",
    "    \n",
    "    model = RandomForestRegressor(\n",
    "        max_depth=max_depth,\n",
    "        min_samples_split=min_samples_split,\n",
    "        n_estimators=n_estimators,\n",
    "        random_state=42,\n",
    "    )\n",
    "\n",
    "    # Model Training\n",
    "    predict = train_model(model, X_train, y_train, X_test, y_test)\n",
    "    plot_test_predict(y_train, y_test, predict)\n",
    "\n",
    "    # Model Evaluation\n",
    "    r2, mean_ae,median_ae, acc, de = evaluate(model, y_test, predict)\n",
    "\n",
    "    results = pd.DataFrame({\n",
    "        \"Index\": CONFIG.INDEXS, \n",
    "        \"Mean\": [r2, mean_ae,median_ae, acc, de]\n",
    "    })\n",
    "    print(results)\n",
    "    \n",
    "    return model\n",
    "    "
   ]
  },
  {
   "cell_type": "markdown",
   "metadata": {},
   "source": [
    "## Data Sampling"
   ]
  },
  {
   "cell_type": "code",
   "execution_count": null,
   "metadata": {
    "execution": {
     "iopub.execute_input": "2021-11-16T08:23:00.111655Z",
     "iopub.status.busy": "2021-11-16T08:23:00.110838Z",
     "iopub.status.idle": "2021-11-16T08:23:35.496215Z",
     "shell.execute_reply": "2021-11-16T08:23:35.495281Z",
     "shell.execute_reply.started": "2021-11-16T08:23:00.11162Z"
    }
   },
   "outputs": [],
   "source": [
    "model = train_final_model(X_train, y_train, X_validate, y_validate, max_depth=12, min_samples_split=0.000001, n_estimators=30)"
   ]
  },
  {
   "cell_type": "code",
   "execution_count": null,
   "metadata": {
    "execution": {
     "iopub.execute_input": "2021-11-16T08:23:35.49773Z",
     "iopub.status.busy": "2021-11-16T08:23:35.497406Z",
     "iopub.status.idle": "2021-11-16T08:23:35.521135Z",
     "shell.execute_reply": "2021-11-16T08:23:35.520232Z",
     "shell.execute_reply.started": "2021-11-16T08:23:35.497698Z"
    }
   },
   "outputs": [],
   "source": [
    "predict = model.predict(X_test)\n",
    "r2, mean_ae,median_ae, acc, de = evaluate(model, y_test, predict)\n",
    "results = pd.DataFrame({\n",
    "    \"Index\": CONFIG.INDEXS, \n",
    "    \"Mean\": [r2, mean_ae,median_ae, acc, de]\n",
    "})\n",
    "print(results)"
   ]
  },
  {
   "cell_type": "markdown",
   "metadata": {},
   "source": [
    "## Random Forest Performance\n",
    "\n",
    "#### hyperparameter ----- validation ----- test\n",
    "##### max_depth=12 | min_sample_split=0.0001 | n_estimator=30 | PCA = None\n",
    "R2=0.73 | MAE=0.503 | HIT@100=0.52 ----- R2=0.351 | MAE=3.50 | HIT@100=0.37 <br>\n",
    "##### max_depth=12 | min_sample_split=0.0001 | n_estimator=30 | PCA = None\n",
    "R2=0.73 | MAE=0.503 | HIT@100=0.52 ----- R2=0.351 | MAE=3.50 | HIT@100=0.37 <br>\n",
    "##### max_depth=12 | min_sample_split=0.0001 | n_estimator=30 | PCA = [4,29]-10 \n",
    "R2=0.72 | MAE=0.513 | HIT@100=0.48 ----- R2=0.363 | MAE=3.35 | HIT@100=0.32 <br>\n",
    "##### max_depth=20 | min_sample_split=0.0001 | n_estimator=30 | PCA = None \n",
    "R2=0.73 | MAE=0.469 | HIT@100=0.51 ----- R2=0.349 | MAE=3.83 | HIT@100=0.38 <br>\n",
    "##### max_depth=20 | min_sample_split=0.0001 | n_estimator=30 | PCA = [4,29]-5 \n",
    "R2=0.70 | MAE=0.519 | HIT@100=0.47 ----- R2=0.312 | MAE=3.77 | HIT@100=0.37 <br>\n",
    "##### max_depth=20 | min_sample_split=0.0001 | n_estimator=30 | PCA = [4,29]-10 \n",
    "R2=0.72 | MAE=0.473 | HIT@100=0.48 ----- R2=0.368 | MAE=3.53 | HIT@100=0.34 <br>\n",
    "##### max_depth=20 | min_sample_split=0.0001 | n_estimator=30 | PCA = [4,34]-10 \n",
    "R2=0.69 | MAE=0.534 | HIT@100=0.48 ----- R2=0.306 | MAE=5.12 | HIT@100=0.34 <br>\n",
    "##### max_depth=20 | min_sample_split=0.0001 | n_estimator=30 | PCA = [4,34]-20 \n",
    "R2=0.70 | MAE=0.531 | HIT@100=0.43 ----- R2=0.298 | MAE=4.74 | HIT@100=0.35 <br>\n",
    "##### max_depth=20 | min_sample_split=100    | n_estimator=30 | PCA = [4,29]-10 \n",
    "R2=0.70 | MAE=0.480 | HIT@100=0.47 ----- R2=0.357 | MAE=3.47 | HIT@100=0.32 <br>"
   ]
  }
 ],
 "metadata": {
  "kernelspec": {
   "display_name": "Python 3 (ipykernel)",
   "language": "python",
   "name": "python3"
  },
  "language_info": {
   "codemirror_mode": {
    "name": "ipython",
    "version": 3
   },
   "file_extension": ".py",
   "mimetype": "text/x-python",
   "name": "python",
   "nbconvert_exporter": "python",
   "pygments_lexer": "ipython3",
   "version": "3.7.10"
  }
 },
 "nbformat": 4,
 "nbformat_minor": 4
}
